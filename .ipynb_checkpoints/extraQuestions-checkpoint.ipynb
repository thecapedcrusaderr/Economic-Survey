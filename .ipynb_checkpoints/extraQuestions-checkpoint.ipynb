{
 "cells": [
  {
   "cell_type": "markdown",
   "metadata": {},
   "source": [
    "# For Finding Age "
   ]
  },
  {
   "cell_type": "code",
   "execution_count": null,
   "metadata": {},
   "outputs": [],
   "source": [
    "# We will also apply near string matching also, will see how it works for the hindi words"
   ]
  },
  {
   "cell_type": "markdown",
   "metadata": {},
   "source": [
    "__It can also handle cases where a user send output in the range form like 8 se 10 ghange__"
   ]
  },
  {
   "cell_type": "code",
   "execution_count": 52,
   "metadata": {},
   "outputs": [],
   "source": [
    "def findAge(sentence):\n",
    "    import difflib\n",
    "    age = -1\n",
    "    hindiNum = ['एक' ,'दो' ,'तीन' ,'चार' ,'पांच' ,'छः' ,'सात'   ,'आठ' ,'नौ' ,'दस' , 'ग्यारह' ,'बारह','तेरह','चौदह',\n",
    " 'पंद्रह','सोलह','सत्रह','अट्ठारह' ,'उन्निस' ,'बीस','इक्कीस','बाईस','तेईस','चौबीस' ,'पच्चीस' ,'छब्बीस','सत्ताईस','अट्ठाईस' ,'उनतीस','तीस' ,'इकतीस' ,\n",
    " 'बत्तीस','तैंतीस','चौंतीस' ,'पैंतीस','छ्त्तीस' ,'सैंतीस','अड़तीस' ,'उनतालीस' ,'चालीस' ,'इकतालीस' ,'बयालीस','तैंतालीस','चौंतालीस' ,\n",
    " 'पैंतालीस' ,'छियालीस' ,'सैंतालीस','अड़तालीस','उनचास', 'पचास','इक्याबन' ,'बावन','तिरेपन','चौबन','पचपन', 'छप्पन','सत्तावन',\n",
    "'अट्ठावन','उनसठ','साठ','इकसठ','बासठ','तिरसठ','चौंसठ','पैंसठ','छियासठ' ,'सड़सठ','अड़सठ','उनहत्तर','सत्तर' ,'इकहत्तर' ,\n",
    "'बहत्तर','तिहत्तर','चौहत्तर' ,'पचहत्तर','छिहत्तर' ,'सतहत्तर' ,'अठहत्तर' ,'उनासी' ,'अस्सी' ,'इक्यासी' ,'बयासी','तिरासी' ,'चौरासी' ,\n",
    " 'पचासी' ,'छियासी' ,'सतासी' ,'अठासी' ,'नवासी' ,'नब्बे' ,'इक्यानबे' ,'बानवे' ,'तिरानवे' ,'चौरानवे' ,'पचानवे' ,'छियानवे' ,'सत्तानवे' ,\n",
    " 'अट्ठानवे' ,'निन्यानवे' ,'सौ']\n",
    "    \n",
    "    dictHindi = dict()\n",
    "    \n",
    "    # Just assigning numeral values to the hindi letters\n",
    "    count = 1\n",
    "    for word in hindiNum:\n",
    "        dictHindi[word] = count\n",
    "        count += 1\n",
    "    \n",
    "    for words in sentence.split():\n",
    "        try:\n",
    "            if(type(int(words))==int):\n",
    "                if(int(words) >= 0 and int(words) <= 120):\n",
    "                    age = int(words)\n",
    "        except:\n",
    "            z = 2\n",
    "    \n",
    "    if age==-1:\n",
    "        for words in sentence.split():\n",
    "            if words in hindiNum:\n",
    "                age = dictHindi[words]\n",
    "                break\n",
    "        \n",
    "        #Now if the words couldn't find something with direct matching we will use near string matching\n",
    "        if age == -1:\n",
    "            matchedList = []\n",
    "            for word in sentence.split():\n",
    "                matchingForWord = difflib.get_close_matches(word, hindiNum)\n",
    "                if len(matchingForWord)!=0:\n",
    "                        matchedList.extend(matchingForWord)\n",
    "        \n",
    "            if len(matchedList) == 0:\n",
    "                return age\n",
    "            else:\n",
    "                return dictHindi[matchedList[0]]\n",
    "        else:\n",
    "            return age\n",
    "        \n",
    "    else:\n",
    "        return age"
   ]
  },
  {
   "cell_type": "code",
   "execution_count": 82,
   "metadata": {},
   "outputs": [
    {
     "data": {
      "text/plain": [
       "8"
      ]
     },
     "execution_count": 82,
     "metadata": {},
     "output_type": "execute_result"
    }
   ],
   "source": [
    "findAge(\" 8 साल\")"
   ]
  },
  {
   "cell_type": "code",
   "execution_count": 53,
   "metadata": {
    "scrolled": true
   },
   "outputs": [
    {
     "data": {
      "text/plain": [
       "14"
      ]
     },
     "execution_count": 53,
     "metadata": {},
     "output_type": "execute_result"
    }
   ],
   "source": [
    "findAge(\"11 से 14 घंटे\")"
   ]
  },
  {
   "cell_type": "markdown",
   "metadata": {},
   "source": [
    "# For haa na answer type questions"
   ]
  },
  {
   "cell_type": "code",
   "execution_count": 17,
   "metadata": {},
   "outputs": [],
   "source": [
    "import difflib\n",
    "\n",
    "# This function returns 1 for haa, 0 for na and -1 if none present\n",
    "def findYesNo(sentence):\n",
    "    yesList = ['हां','हाँ']\n",
    "    noList = [ 'नहीं' , 'ना']\n",
    "    ans = -1\n",
    "    for word in sentence.split():\n",
    "        if word in yesList:\n",
    "            ans = 1\n",
    "            break\n",
    "        elif word in noList:\n",
    "            ans = 0\n",
    "            break\n",
    "        else:\n",
    "            continue\n",
    "            \n",
    "    if ans == -1:\n",
    "        yesMatchList, noMatchList = [], []\n",
    "        for word in sentece.split():\n",
    "            yesMatchList.append(difflib.get_close_matches(word, yesList))\n",
    "            noMatchList.append(difflib.get_close_matches(word, noList))\n",
    "        \n",
    "        if len(noMatchList)!=0 and len(yesMatchList) != 0:\n",
    "            ans = 0\n",
    "        elif len(noMatchList)!=0 :\n",
    "            ans = 0\n",
    "        elif len(yesMatchList)!=0 :\n",
    "            ans = 1\n",
    "        \n",
    "        return ans\n",
    "        \n",
    "    else:\n",
    "        return ans\n",
    "    "
   ]
  },
  {
   "cell_type": "code",
   "execution_count": 18,
   "metadata": {},
   "outputs": [
    {
     "data": {
      "text/plain": [
       "1"
      ]
     },
     "execution_count": 18,
     "metadata": {},
     "output_type": "execute_result"
    }
   ],
   "source": [
    "findYesNo('हां शादीशुदा हूं')"
   ]
  },
  {
   "cell_type": "code",
   "execution_count": 73,
   "metadata": {},
   "outputs": [],
   "source": [
    "# Near String Matching\n",
    "def ifItContainSimilarWord(word, toMatchList):\n",
    "    import difflib\n",
    "    matchList = difflib.get_close_matches(word, toMatchList)\n",
    "    if len(matchList) == 0:\n",
    "        return False\n",
    "    else:\n",
    "        return True"
   ]
  },
  {
   "cell_type": "markdown",
   "metadata": {},
   "source": [
    "# For \" पिछले साल आप कितने दिन अपने क्षेत्र में रहे है \""
   ]
  },
  {
   "cell_type": "code",
   "execution_count": 77,
   "metadata": {},
   "outputs": [],
   "source": [
    "# It would return a pair(_,_) where first element would be number of days month or year, second element would\n",
    "# be 0,1,2 where 0 represents din, 1 represents month, 2 represent year\n",
    "\n",
    "def lastYearDuration(sentence):\n",
    "    numeralData = findAge(sentence)\n",
    "    \n",
    "    toMatchDay = [\"दिन\", \"दिनों\"]\n",
    "    toMatchMonth = [\"महीने\",\"महीनों\", \"महीना\"]\n",
    "    toMatchYear = [\"साल\", \"इयर्स\"]\n",
    "    \n",
    "    if numeralData != -1:\n",
    "        for word in sentence.split():\n",
    "            if word in toMatchMonth or ifItContainSimilarWord(word,toMatchMonth):\n",
    "                return (numeralData, 1)\n",
    "            elif word in toMatchDay or ifItContainSimilarWord(word,toMatchDay):\n",
    "                return (numeralData,0)\n",
    "            elif word in toMatchYear or ifItContainSimilarWord(word, toMatchYear):\n",
    "                if numeralData > 1:\n",
    "                        return (1,2)\n",
    "                else:\n",
    "                    return (numeralData,2)\n",
    "        \n",
    "        # Since questions asks kitne din, and in sentence there is no key word for any of date , month or year\n",
    "        # we, would assume it is for din only.\n",
    "        return (numeralData,0)\n",
    "    else:\n",
    "        # Now we will check for saal only, as it is only possible left without any numeral data like poora saal\n",
    "        \n",
    "        for word in sentence.split():\n",
    "            if word in toMatchYear or ifItContainSimilarWord(word, toMatchYear):\n",
    "                return (1,2)\n",
    "            \n",
    "        # If it comes here then it is clear sentence doesn't contain any relevant info, so we would return\n",
    "        # (-1,-1).\n",
    "        print(\" yahan aa rha hai kya\")\n",
    "        return (-1,-1)"
   ]
  },
  {
   "cell_type": "code",
   "execution_count": 78,
   "metadata": {},
   "outputs": [
    {
     "data": {
      "text/plain": [
       "(11, 1)"
      ]
     },
     "execution_count": 78,
     "metadata": {},
     "output_type": "execute_result"
    }
   ],
   "source": [
    "lastYearDuration(\"लगभग 11 महीने\")"
   ]
  },
  {
   "cell_type": "code",
   "execution_count": 79,
   "metadata": {},
   "outputs": [
    {
     "data": {
      "text/plain": [
       "(1, 2)"
      ]
     },
     "execution_count": 79,
     "metadata": {},
     "output_type": "execute_result"
    }
   ],
   "source": [
    "lastYearDuration(\"पूरा साल\")"
   ]
  },
  {
   "cell_type": "markdown",
   "metadata": {},
   "source": [
    "# For question \"कौन से महीने में आपने यह काम शुरू किया था\""
   ]
  },
  {
   "cell_type": "code",
   "execution_count": 83,
   "metadata": {},
   "outputs": [],
   "source": [
    "# It will return nothing in string if no months matched\n",
    "def findMonth(sentence):\n",
    "    import difflib\n",
    "    \n",
    "    rawMonths=['जनवरी','फरवरी','मार्च','अप्रैल','मई','जून','जुलाई','अगस्त','सितंबर','अक्टूबर','नवंबर','दिसंबर']\n",
    "    hindiMonths=['चैत्र','बैसाख','ज्येष्ठ','आषाढ़','सावन','भाद्रपद','आश्विन','कार्तिक','अग्रहायण','पौष','माघ','फाल्गुन']\n",
    "    hindiMonthsDict = {i:j for (j,i) in enumerate(hindiMonths)}\n",
    "    \n",
    "    ans = \"nothing\"\n",
    "    for word in sentence.split():\n",
    "        if word in rawMonths:\n",
    "            return word\n",
    "        elif word in hindiMonths:\n",
    "            return word\n",
    "    \n",
    "    for word in sentence.split():\n",
    "        firstMatches = difflib.get_close_matches(word, rawMonths)\n",
    "        if len(firstMatch) != 0:\n",
    "            return firstMatches[0]\n",
    "        \n",
    "        secondMatches = difflib.get_close_matches(word, hindiMonths)\n",
    "        if len(secondMatches) != 0:\n",
    "            return secondMatches[0]\n",
    "        \n",
    "    return ans\n",
    "            "
   ]
  },
  {
   "cell_type": "code",
   "execution_count": 84,
   "metadata": {},
   "outputs": [
    {
     "data": {
      "text/plain": [
       "'जुलाई'"
      ]
     },
     "execution_count": 84,
     "metadata": {},
     "output_type": "execute_result"
    }
   ],
   "source": [
    "findMonth(\"जुलाई 2018 में\")"
   ]
  },
  {
   "cell_type": "code",
   "execution_count": null,
   "metadata": {},
   "outputs": [],
   "source": []
  }
 ],
 "metadata": {
  "kernelspec": {
   "display_name": "Python 3",
   "language": "python",
   "name": "python3"
  },
  "language_info": {
   "codemirror_mode": {
    "name": "ipython",
    "version": 3
   },
   "file_extension": ".py",
   "mimetype": "text/x-python",
   "name": "python",
   "nbconvert_exporter": "python",
   "pygments_lexer": "ipython3",
   "version": "3.7.4"
  }
 },
 "nbformat": 4,
 "nbformat_minor": 2
}
